{
 "cells": [
  {
   "cell_type": "code",
   "execution_count": 5,
   "id": "ancient-sampling",
   "metadata": {},
   "outputs": [
    {
     "name": "stdout",
     "output_type": "stream",
     "text": [
      "[[4.3100e+02 1.0200e+02 3.1000e+02 3.1500e+02 3.7610e+04 1.0000e+00]\n",
      " [3.7000e+02 1.0400e+02 3.3700e+02 3.3000e+02 3.9737e+04 1.0000e+00]\n",
      " [3.7100e+02 1.0400e+02 3.3800e+02 3.2800e+02 3.9833e+04 1.0000e+00]\n",
      " ...\n",
      " [4.0300e+02 7.6000e+01 8.8000e+01 1.8600e+02 9.6500e+03 3.0000e+00]\n",
      " [4.0500e+02 7.6000e+01 8.7000e+01 1.8600e+02 9.6000e+03 3.0000e+00]\n",
      " [4.0800e+02 7.6000e+01 8.6000e+01 1.8600e+02 9.5920e+03 3.0000e+00]]\n"
     ]
    }
   ],
   "source": [
    "import tensorflow as tf\n",
    "import numpy as np\n",
    "import random\n",
    "import pandas as pd\n",
    "\n",
    "bp = np.loadtxt('first_dataset_1.csv', delimiter=',', dtype=np.float32)\n",
    "print(bp)"
   ]
  },
  {
   "cell_type": "code",
   "execution_count": null,
   "id": "extreme-lewis",
   "metadata": {},
   "outputs": [],
   "source": []
  }
 ],
 "metadata": {
  "kernelspec": {
   "display_name": "Python 3",
   "language": "python",
   "name": "python3"
  },
  "language_info": {
   "codemirror_mode": {
    "name": "ipython",
    "version": 3
   },
   "file_extension": ".py",
   "mimetype": "text/x-python",
   "name": "python",
   "nbconvert_exporter": "python",
   "pygments_lexer": "ipython3",
   "version": "3.8.5"
  }
 },
 "nbformat": 4,
 "nbformat_minor": 5
}
